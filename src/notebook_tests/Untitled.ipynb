{
 "cells": [
  {
   "cell_type": "code",
   "execution_count": 29,
   "metadata": {},
   "outputs": [
    {
     "ename": "ImportError",
     "evalue": "cannot import name cbook",
     "output_type": "error",
     "traceback": [
      "\u001b[0;31m---------------------------------------------------------------------------\u001b[0m",
      "\u001b[0;31mImportError\u001b[0m                               Traceback (most recent call last)",
      "\u001b[0;32m<ipython-input-29-52b59d55780b>\u001b[0m in \u001b[0;36m<module>\u001b[0;34m()\u001b[0m\n\u001b[1;32m      1\u001b[0m \u001b[0;32mimport\u001b[0m \u001b[0mmath\u001b[0m\u001b[0;34m\u001b[0m\u001b[0m\n\u001b[0;32m----> 2\u001b[0;31m \u001b[0;32mfrom\u001b[0m \u001b[0mpylab\u001b[0m \u001b[0;32mimport\u001b[0m \u001b[0;34m*\u001b[0m\u001b[0;34m\u001b[0m\u001b[0m\n\u001b[0m",
      "\u001b[0;32m/home/george/.local/lib/python2.7/site-packages/pylab.py\u001b[0m in \u001b[0;36m<module>\u001b[0;34m()\u001b[0m\n\u001b[0;32m----> 1\u001b[0;31m \u001b[0;32mfrom\u001b[0m \u001b[0mmatplotlib\u001b[0m\u001b[0;34m.\u001b[0m\u001b[0mpylab\u001b[0m \u001b[0;32mimport\u001b[0m \u001b[0;34m*\u001b[0m\u001b[0;34m\u001b[0m\u001b[0m\n\u001b[0m\u001b[1;32m      2\u001b[0m \u001b[0;32mimport\u001b[0m \u001b[0mmatplotlib\u001b[0m\u001b[0;34m.\u001b[0m\u001b[0mpylab\u001b[0m\u001b[0;34m\u001b[0m\u001b[0m\n\u001b[1;32m      3\u001b[0m \u001b[0m__doc__\u001b[0m \u001b[0;34m=\u001b[0m \u001b[0mmatplotlib\u001b[0m\u001b[0;34m.\u001b[0m\u001b[0mpylab\u001b[0m\u001b[0;34m.\u001b[0m\u001b[0m__doc__\u001b[0m\u001b[0;34m\u001b[0m\u001b[0m\n",
      "\u001b[0;32m/home/george/.local/lib/python2.7/site-packages/matplotlib/__init__.py\u001b[0m in \u001b[0;36m<module>\u001b[0;34m()\u001b[0m\n\u001b[1;32m    124\u001b[0m \u001b[0;31m# cbook must import matplotlib only within function\u001b[0m\u001b[0;34m\u001b[0m\u001b[0;34m\u001b[0m\u001b[0m\n\u001b[1;32m    125\u001b[0m \u001b[0;31m# definitions, so it is safe to import from it here.\u001b[0m\u001b[0;34m\u001b[0m\u001b[0;34m\u001b[0m\u001b[0m\n\u001b[0;32m--> 126\u001b[0;31m \u001b[0;32mfrom\u001b[0m \u001b[0;34m.\u001b[0m \u001b[0;32mimport\u001b[0m \u001b[0mcbook\u001b[0m\u001b[0;34m\u001b[0m\u001b[0m\n\u001b[0m\u001b[1;32m    127\u001b[0m from matplotlib.cbook import (\n\u001b[1;32m    128\u001b[0m     _backports, mplDeprecation, dedent, get_label, sanitize_sequence)\n",
      "\u001b[0;31mImportError\u001b[0m: cannot import name cbook"
     ]
    }
   ],
   "source": [
    "import math\n",
    "from pylab import *"
   ]
  },
  {
   "cell_type": "code",
   "execution_count": 19,
   "metadata": {},
   "outputs": [],
   "source": [
    "    def predict(obs_range, map_range):\n",
    "        \"\"\"\n",
    "        Implementation of AMCL's sensor model.\n",
    "        \n",
    "        :Args:\n",
    "            | obs_range (double): Observed range (i.e. from actual laser)\n",
    "            | map_range (double): Predicted range (i.e. from map)\n",
    "        :Returns:\n",
    "            | (double) Probability [0,1] that we would observe the obs_range\n",
    "              data given the estimated map location\n",
    "         \"\"\"\n",
    "        pz = 0.0\n",
    "    \n",
    "        # Part 1: good, but noisy, hit\n",
    "        z = obs_range - map_range\n",
    "        pz += ( z_hit *\n",
    "                math.exp(-(z * z) / (2 * sigma_hit * sigma_hit)) )\n",
    "    \n",
    "        # Part 2: short reading from unexpected obstacle (e.g., a person)\n",
    "        if z < 0:\n",
    "            pz += ( z_short * lambda_short *\n",
    "                    math.exp(-lambda_short*obs_range) )\n",
    "    \n",
    "        # Part 3: Failure to detect obstacle, reported as max-range\n",
    "        if obs_range == scan_range_max:\n",
    "            pz += z_max * 1.0\n",
    "    \n",
    "        # Part 4: Random measurements\n",
    "        if obs_range < scan_range_max:\n",
    "            pz += z_rand * 1.0/ scan_range_max\n",
    "    \n",
    "        assert(pz <= 1.0)\n",
    "        assert(pz >= 0.0)\n",
    "        \n",
    "        return pz"
   ]
  },
  {
   "cell_type": "code",
   "execution_count": 22,
   "metadata": {},
   "outputs": [],
   "source": [
    "z_hit = 0.95   # Default probability if we make a hit\n",
    "z_short = 0.1  # Probability of a short reading from \n",
    "               # unexpected obstacle (e.g. person or object)\n",
    "z_max = 0.05   # Probability of failure to detect an obstacle,\n",
    "               # reported as max range\n",
    "z_rand = 0.05  # Random noise on all readings\n",
    "        \n",
    "sigma_hit = 0.2  # Noise on hit\n",
    "lambda_short = 0.1  # Noise on short reading\n",
    "\n",
    "scan_range_max = 0"
   ]
  },
  {
   "cell_type": "code",
   "execution_count": 23,
   "metadata": {},
   "outputs": [
    {
     "data": {
      "text/plain": [
       "1.8226278854881492e-136"
      ]
     },
     "execution_count": 23,
     "metadata": {},
     "output_type": "execute_result"
    }
   ],
   "source": [
    "predict(10, 5)"
   ]
  }
 ],
 "metadata": {
  "kernelspec": {
   "display_name": "Python 2",
   "language": "python",
   "name": "python2"
  },
  "language_info": {
   "codemirror_mode": {
    "name": "ipython",
    "version": 2
   },
   "file_extension": ".py",
   "mimetype": "text/x-python",
   "name": "python",
   "nbconvert_exporter": "python",
   "pygments_lexer": "ipython2",
   "version": "2.7.15rc1"
  }
 },
 "nbformat": 4,
 "nbformat_minor": 2
}
