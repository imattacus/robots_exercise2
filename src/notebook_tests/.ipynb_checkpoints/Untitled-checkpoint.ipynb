{
 "cells": [
  {
   "cell_type": "code",
   "execution_count": 14,
   "metadata": {},
   "outputs": [],
   "source": [
    "import math"
   ]
  },
  {
   "cell_type": "code",
   "execution_count": 15,
   "metadata": {},
   "outputs": [],
   "source": [
    "    def predict(obs_range, map_range):\n",
    "        \"\"\"\n",
    "        Implementation of AMCL's sensor model.\n",
    "        \n",
    "        :Args:\n",
    "            | obs_range (double): Observed range (i.e. from actual laser)\n",
    "            | map_range (double): Predicted range (i.e. from map)\n",
    "        :Returns:\n",
    "            | (double) Probability [0,1] that we would observe the obs_range\n",
    "              data given the estimated map location\n",
    "         \"\"\"\n",
    "        pz = 0.0\n",
    "    \n",
    "        # Part 1: good, but noisy, hit\n",
    "        z = obs_range - map_range\n",
    "        pz += ( z_hit *\n",
    "                math.exp(-(z * z) / (2 * sigma_hit * sigma_hit)) )\n",
    "    \n",
    "        # Part 2: short reading from unexpected obstacle (e.g., a person)\n",
    "        if z < 0:\n",
    "            pz += ( z_short * lambda_short *\n",
    "                    math.exp(-lambda_short*obs_range) )\n",
    "    \n",
    "        # Part 3: Failure to detect obstacle, reported as max-range\n",
    "        if obs_range == scan_range_max:\n",
    "            pz += z_max * 1.0\n",
    "    \n",
    "        # Part 4: Random measurements\n",
    "        if obs_range < scan_range_max:\n",
    "            pz += z_rand * 1.0/ scan_range_max\n",
    "    \n",
    "        assert(pz <= 1.0)\n",
    "        assert(pz >= 0.0)\n",
    "        \n",
    "        return pz"
   ]
  },
  {
   "cell_type": "code",
   "execution_count": 16,
   "metadata": {},
   "outputs": [],
   "source": [
    "z_hit = 0.95   # Default probability if we make a hit\n",
    "z_short = 0.1  # Probability of a short reading from \n",
    "               # unexpected obstacle (e.g. person or object)\n",
    "z_max = 0.05   # Probability of failure to detect an obstacle,\n",
    "               # reported as max range\n",
    "z_rand = 0.05  # Random noise on all readings\n",
    "        \n",
    "sigma_hit = 0.2  # Noise on hit\n",
    "lambda_short = 0.1  # Noise on short reading"
   ]
  },
  {
   "cell_type": "code",
   "execution_count": 17,
   "metadata": {},
   "outputs": [
    {
     "ename": "NameError",
     "evalue": "global name 'sigma_hit' is not defined",
     "output_type": "error",
     "traceback": [
      "\u001b[0;31m---------------------------------------------------------------------------\u001b[0m",
      "\u001b[0;31mNameError\u001b[0m                                 Traceback (most recent call last)",
      "\u001b[0;32m<ipython-input-17-849686b8d535>\u001b[0m in \u001b[0;36m<module>\u001b[0;34m()\u001b[0m\n\u001b[0;32m----> 1\u001b[0;31m \u001b[0mpredict\u001b[0m\u001b[0;34m(\u001b[0m\u001b[0;36m10\u001b[0m\u001b[0;34m,\u001b[0m \u001b[0;36m5\u001b[0m\u001b[0;34m)\u001b[0m\u001b[0;34m\u001b[0m\u001b[0m\n\u001b[0m",
      "\u001b[0;32m<ipython-input-15-0f88da90aeba>\u001b[0m in \u001b[0;36mpredict\u001b[0;34m(obs_range, map_range)\u001b[0m\n\u001b[1;32m     15\u001b[0m     \u001b[0mz\u001b[0m \u001b[0;34m=\u001b[0m \u001b[0mobs_range\u001b[0m \u001b[0;34m-\u001b[0m \u001b[0mmap_range\u001b[0m\u001b[0;34m\u001b[0m\u001b[0m\n\u001b[1;32m     16\u001b[0m     pz += ( z_hit *\n\u001b[0;32m---> 17\u001b[0;31m             math.exp(-(z * z) / (2 * sigma_hit * sigma_hit)) )\n\u001b[0m\u001b[1;32m     18\u001b[0m \u001b[0;34m\u001b[0m\u001b[0m\n\u001b[1;32m     19\u001b[0m     \u001b[0;31m# Part 2: short reading from unexpected obstacle (e.g., a person)\u001b[0m\u001b[0;34m\u001b[0m\u001b[0;34m\u001b[0m\u001b[0m\n",
      "\u001b[0;31mNameError\u001b[0m: global name 'sigma_hit' is not defined"
     ]
    }
   ],
   "source": [
    "predict(10, 5)"
   ]
  }
 ],
 "metadata": {
  "kernelspec": {
   "display_name": "Python 2",
   "language": "python",
   "name": "python2"
  },
  "language_info": {
   "codemirror_mode": {
    "name": "ipython",
    "version": 2
   },
   "file_extension": ".py",
   "mimetype": "text/x-python",
   "name": "python",
   "nbconvert_exporter": "python",
   "pygments_lexer": "ipython2",
   "version": "2.7.15rc1"
  }
 },
 "nbformat": 4,
 "nbformat_minor": 2
}
